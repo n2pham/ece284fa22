{
 "cells": [
  {
   "cell_type": "code",
   "execution_count": 6,
   "id": "miniature-siemens",
   "metadata": {},
   "outputs": [
    {
     "name": "stdout",
     "output_type": "stream",
     "text": [
      "Net(\n",
      "  (fc1): Linear(in_features=2, out_features=2, bias=False)\n",
      "  (fc2): Linear(in_features=2, out_features=2, bias=False)\n",
      "  (ReLU): ReLU()\n",
      ")\n",
      "Initial parameter: [Parameter containing:\n",
      "tensor([[ 2.,  0.],\n",
      "        [ 1., -1.]], requires_grad=True), Parameter containing:\n",
      "tensor([[-1.,  1.],\n",
      "        [ 2.,  2.]], requires_grad=True)]\n",
      "Y3 is: tensor([0., 4.], grad_fn=<ReluBackward0>)\n",
      "W1.grad: tensor([[ 8., 16.],\n",
      "        [ 0.,  0.]])\n",
      "W2.grad: tensor([[0., 0.],\n",
      "        [8., 0.]])\n"
     ]
    }
   ],
   "source": [
    "import torch\n",
    "import torch.nn as nn\n",
    "import torch.nn.functional as F\n",
    "import torch.optim as optim\n",
    "\n",
    "\n",
    "\n",
    "criterion = nn.MSELoss()\n",
    "\n",
    "W1 = torch.tensor([[2.0,1.0],[0.0,-1.0]], requires_grad=True)\n",
    "W2 = torch.tensor([[-1.0,2.0],[1.0,2.0]], requires_grad=True)\n",
    "X  = torch.tensor([1.0,2.0])\n",
    "T  = torch.tensor([0.0,0.0])\n",
    "\n",
    "\n",
    "class Net(nn.Module):\n",
    "    def __init__(self):\n",
    "        super(Net, self).__init__()\n",
    "        self.fc1 = nn.Linear(2,2,bias=False)\n",
    "        self.fc2 = nn.Linear(2,2,bias=False)\n",
    "        self.ReLU = nn.ReLU()\n",
    "    def forward(self, x):\n",
    "        S2 = self.fc1(x)\n",
    "        #print(\"S2 is:\", S2)\n",
    "        Y2 = self.ReLU(S2)\n",
    "        y = self.ReLU(self.fc2(Y2))\n",
    "        return y\n",
    "\n",
    "net = Net()\n",
    "# nn.linear computes X*A^T. Thus, we provided transposed value\n",
    "net.fc1.weight = torch.nn.Parameter(torch.transpose(W1,0,1)) \n",
    "net.fc2.weight = torch.nn.Parameter(torch.transpose(W2,0,1))\n",
    "\n",
    "\n",
    "print(net)\n",
    "print(\"Initial parameter:\", list(net.parameters()))\n",
    "\n",
    "Y3 = net(X)\n",
    "\n",
    "print(\"Y3 is:\", Y3)\n",
    "\n",
    "optimizer = optim.SGD(net.parameters(), lr=0.01, momentum=0.5)\n",
    "loss = criterion(Y3, T)\n",
    "loss.backward()\n",
    "\n",
    "print(\"W1.grad:\", net.fc1.weight.grad)\n",
    "print(\"W2.grad:\", net.fc2.weight.grad)\n",
    "\n"
   ]
  },
  {
   "cell_type": "code",
   "execution_count": 7,
   "id": "fleet-packet",
   "metadata": {},
   "outputs": [
    {
     "name": "stdout",
     "output_type": "stream",
     "text": [
      "new parameter: [Parameter containing:\n",
      "tensor([[ 1.9200, -0.1600],\n",
      "        [ 1.0000, -1.0000]], requires_grad=True), Parameter containing:\n",
      "tensor([[-1.0000,  1.0000],\n",
      "        [ 1.9200,  2.0000]], requires_grad=True)]\n",
      "Y3 after 1st training is: tensor([0.0000, 3.0720], grad_fn=<ReluBackward0>)\n",
      "Y3 after 2nd training is: tensor([0.0000, 1.2345], grad_fn=<ReluBackward0>)\n",
      "Y3 after 3rd training is: tensor([0., 0.], grad_fn=<ReluBackward0>)\n"
     ]
    }
   ],
   "source": [
    "optimizer.step()\n",
    "\n",
    "print(\"new parameter:\", list(net.parameters()))\n",
    "Y3 = net(X)\n",
    "print(\"Y3 after 1st training is:\", Y3)\n",
    "\n",
    "loss = criterion(Y3, T)\n",
    "loss.backward()\n",
    "\n",
    "optimizer.step()\n",
    "\n",
    "Y3 = net(X)\n",
    "print(\"Y3 after 2nd training is:\", Y3)\n",
    "\n",
    "loss = criterion(Y3, T)\n",
    "loss.backward()\n",
    "\n",
    "optimizer.step()\n",
    "\n",
    "Y3 = net(X)\n",
    "print(\"Y3 after 3rd training is:\", Y3)"
   ]
  }
 ],
 "metadata": {
  "kernelspec": {
   "display_name": "Python 3.9.13 64-bit (microsoft store)",
   "language": "python",
   "name": "python3"
  },
  "language_info": {
   "codemirror_mode": {
    "name": "ipython",
    "version": 3
   },
   "file_extension": ".py",
   "mimetype": "text/x-python",
   "name": "python",
   "nbconvert_exporter": "python",
   "pygments_lexer": "ipython3",
   "version": "3.9.13"
  },
  "vscode": {
   "interpreter": {
    "hash": "1eff37ef8e93fe9e25709d770419006aaad52e0a69816d7c380e605faa3ae0c1"
   }
  }
 },
 "nbformat": 4,
 "nbformat_minor": 5
}
